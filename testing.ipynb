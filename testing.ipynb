{
 "cells": [
  {
   "cell_type": "code",
   "execution_count": 62,
   "metadata": {},
   "outputs": [],
   "source": [
    "import matplotlib.pyplot as plt\n",
    "import numpy as np\n",
    "\n",
    "from src.algorithms.qlearning import QLearning\n",
    "from src.experiments.experiment import setup_experiment\n",
    "from src.experiments.reward.run_experiment import run_experiment_in_simulator\n",
    "from src.snake.reward import NegTravelPosScore, NegDistanceNegBorderCollisionPosBodySize, NegDistanceNegDeathPosBodySize\n",
    "from src.snake.state import DirectionalScoreState, DirectionalState, BoardScoreState\n",
    "from src.util.math import compute_mean_over_time\n",
    "from src.snake.agent import SnakeAgent, SnakeRandomAgent\n",
    "from src.core.policy import GreedyPolicy\n",
    "from src.snake.parameters import SnakeParameters\n",
    "from src.main import main"
   ]
  },
  {
   "cell_type": "markdown",
   "metadata": {},
   "source": [
    "# Test 1\n"
   ]
  },
  {
   "cell_type": "code",
   "execution_count": 83,
   "metadata": {},
   "outputs": [],
   "source": [
    "seed = 123\n",
    "\n",
    "experiment = setup_experiment(QLearning, \"test\", seed)\n",
    "experiment.train_episodes = 100000\n",
    "experiment.state = DirectionalScoreState\n",
    "experiment.reward = NegTravelPosScore\n",
    "\n",
    "experiment.load()\n",
    "experiment.train()\n",
    "experiment.save()"
   ]
  },
  {
   "cell_type": "code",
   "execution_count": 64,
   "metadata": {},
   "outputs": [
    {
     "data": {
      "image/png": "[encoded data removed]",
      "text/plain": [
       "<matplotlib.figure.Figure at 0x7f813fc57d30>"
      ]
     },
     "metadata": {},
     "output_type": "display_data"
    }
   ],
   "source": [
    "game_score_per_episode = experiment.env.game_score_coef * experiment.model_.food_count_per_episode[::10]\n",
    "x = np.arange(1, len(game_score_per_episode) * 10 + 1, 10)\n",
    "\n",
    "plt.plot(x, compute_mean_over_time(game_score_per_episode))\n",
    "plt.show()"
   ]
  },
  {
   "cell_type": "code",
   "execution_count": 65,
   "metadata": {},
   "outputs": [
    {
     "name": "stdout",
     "output_type": "stream",
     "text": [
      "Test performance after 1000 iterations:\n",
      "Avg Score: 39.090 (Std: 64.319)\n",
      "Test performance after 10000 iterations:\n",
      "Avg Score: 57.880 (Std: 50.358)\n",
      "Test performance after 100000 iterations:\n",
      "Avg Score: 60.540 (Std: 53.319)\n",
      "Random Agent performance:\n",
      "Avg Score: 20.130 (Std: 46.473)\n"
     ]
    }
   ],
   "source": [
    "for train_episodes in (1000, 10000, 100000):\n",
    "    experiment.train_episodes = train_episodes\n",
    "    experiment.load()\n",
    "    experiment.train()\n",
    "    experiment.save()\n",
    "    \n",
    "    np.random.seed(123)\n",
    "    print(\"Test performance after %i iterations:\" % (train_episodes,))\n",
    "    agent = SnakeAgent(GreedyPolicy(experiment.env),\n",
    "                   experiment.model_.Q)\n",
    "    scores = experiment.env.run(agent, 10000)\n",
    "    print(\"Avg Score: %0.03f (Std: %0.03f)\" % (np.mean(scores), np.std(scores)))\n",
    "\n",
    "np.random.seed(123)\n",
    "agent = SnakeRandomAgent(experiment.env)\n",
    "print(\"Random Agent performance:\")\n",
    "scores = experiment.env.run(agent, 10000)\n",
    "print(\"Avg Score: %0.03f (Std: %0.03f)\" % (np.mean(scores), np.std(scores)))"
   ]
  },
  {
   "cell_type": "code",
   "execution_count": 84,
   "metadata": {},
   "outputs": [],
   "source": [
    "run_experiment_in_simulator(experiment)"
   ]
  },
  {
   "cell_type": "markdown",
   "metadata": {},
   "source": [
    "# Test 2"
   ]
  },
  {
   "cell_type": "code",
   "execution_count": 90,
   "metadata": {},
   "outputs": [],
   "source": [
    "seed = 123\n",
    "\n",
    "experiment = setup_experiment(QLearning, \"test\", seed)\n",
    "experiment.train_episodes = 100000\n",
    "experiment.state = DirectionalScoreState\n",
    "experiment.reward = NegDistanceNegBorderCollisionPosBodySize\n",
    "\n",
    "experiment.load()\n",
    "experiment.train()\n",
    "experiment.save()"
   ]
  },
  {
   "cell_type": "code",
   "execution_count": 68,
   "metadata": {},
   "outputs": [
    {
     "data": {
      "image/png": "[encoded data removed]",
      "text/plain": [
       "<matplotlib.figure.Figure at 0x7f812c26e828>"
      ]
     },
     "metadata": {},
     "output_type": "display_data"
    }
   ],
   "source": [
    "game_score_per_episode = experiment.env.game_score_coef * experiment.model_.food_count_per_episode[::10]\n",
    "x = np.arange(1, len(game_score_per_episode) * 10 + 1, 10)\n",
    "\n",
    "plt.plot(x, compute_mean_over_time(game_score_per_episode))\n",
    "plt.show()"
   ]
  },
  {
   "cell_type": "code",
   "execution_count": 69,
   "metadata": {},
   "outputs": [
    {
     "name": "stdout",
     "output_type": "stream",
     "text": [
      "Test performance after 1000 iterations:\n",
      "Avg Score: 44.230 (Std: 81.048)\n",
      "Test performance after 10000 iterations:\n",
      "Avg Score: 6.930 (Std: 26.362)\n",
      "Test performance after 100000 iterations:\n",
      "Avg Score: 39.920 (Std: 72.790)\n"
     ]
    }
   ],
   "source": [
    "for train_episodes in (1000, 10000, 100000):\n",
    "    experiment.train_episodes = train_episodes\n",
    "    experiment.load()\n",
    "    experiment.train()\n",
    "    experiment.save()\n",
    "    \n",
    "    np.random.seed(123)\n",
    "    print(\"Test performance after %i iterations:\" % (train_episodes,))\n",
    "    agent = SnakeAgent(GreedyPolicy(experiment.env),\n",
    "                   experiment.model_.Q)\n",
    "    scores = experiment.env.run(agent, 10000)\n",
    "    print(\"Avg Score: %0.03f (Std: %0.03f)\" % (np.mean(scores), np.std(scores)))"
   ]
  },
  {
   "cell_type": "code",
   "execution_count": null,
   "metadata": {},
   "outputs": [],
   "source": [
    "run_experiment_in_simulator(experiment)"
   ]
  },
  {
   "cell_type": "markdown",
   "metadata": {},
   "source": [
    "# Test 3"
   ]
  },
  {
   "cell_type": "code",
   "execution_count": 71,
   "metadata": {},
   "outputs": [
    {
     "name": "stdout",
     "output_type": "stream",
     "text": [
      "Test performance after 1000000 iterations:\n",
      "Avg Score: 18.660 (Std: 74.965)\n"
     ]
    }
   ],
   "source": [
    "seed = 123\n",
    "\n",
    "experiment = setup_experiment(QLearning, \"test\", seed)\n",
    "experiment.train_episodes = 1000000\n",
    "experiment.state = DirectionalScoreState\n",
    "experiment.reward = NegDistanceNegBorderCollisionPosBodySize\n",
    "\n",
    "experiment.load()\n",
    "experiment.train()\n",
    "experiment.save()\n",
    "\n",
    "np.random.seed(123)\n",
    "print(\"Test performance after %i iterations:\" % (experiment.train_episodes,))\n",
    "agent = SnakeAgent(GreedyPolicy(experiment.env),\n",
    "                   experiment.model_.Q)\n",
    "scores = experiment.env.run(agent, 10000)\n",
    "print(\"Avg Score: %0.03f (Std: %0.03f)\" % (np.mean(scores), np.std(scores)))"
   ]
  },
  {
   "cell_type": "code",
   "execution_count": 72,
   "metadata": {},
   "outputs": [
    {
     "data": {
      "image/png": "[encoded data removed]",
      "text/plain": [
       "<matplotlib.figure.Figure at 0x7f812c2fa7f0>"
      ]
     },
     "metadata": {},
     "output_type": "display_data"
    }
   ],
   "source": [
    "game_score_per_episode = experiment.env.game_score_coef * experiment.model_.food_count_per_episode[::10]\n",
    "x = np.arange(1, len(game_score_per_episode) * 10 + 1, 10)\n",
    "\n",
    "plt.semilogx(x, compute_mean_over_time(game_score_per_episode))\n",
    "plt.show()"
   ]
  },
  {
   "cell_type": "code",
   "execution_count": 73,
   "metadata": {},
   "outputs": [],
   "source": [
    "run_experiment_in_simulator(experiment)"
   ]
  },
  {
   "cell_type": "code",
   "execution_count": 74,
   "metadata": {},
   "outputs": [
    {
     "name": "stdout",
     "output_type": "stream",
     "text": [
      "Test performance after 1000000 iterations:\n",
      "Avg Score: 38.440 (Std: 56.110)\n"
     ]
    }
   ],
   "source": [
    "seed = 123\n",
    "\n",
    "experiment = setup_experiment(QLearning, \"test\", seed)\n",
    "experiment.train_episodes = 1000000\n",
    "experiment.state = DirectionalState\n",
    "experiment.reward = NegDistanceNegBorderCollisionPosBodySize\n",
    "\n",
    "experiment.load()\n",
    "experiment.train()\n",
    "experiment.save()\n",
    "\n",
    "np.random.seed(123)\n",
    "print(\"Test performance after %i iterations:\" % (1000000,))\n",
    "agent = SnakeAgent(GreedyPolicy(experiment.env),\n",
    "                   experiment.model_.Q)\n",
    "scores = experiment.env.run(agent, 10000)\n",
    "print(\"Avg Score: %0.03f (Std: %0.03f)\" % (np.mean(scores), np.std(scores)))"
   ]
  },
  {
   "cell_type": "code",
   "execution_count": 75,
   "metadata": {},
   "outputs": [
    {
     "data": {
      "image/png": "[encoded data removed]",
      "text/plain": [
       "<matplotlib.figure.Figure at 0x7f813effc4a8>"
      ]
     },
     "metadata": {},
     "output_type": "display_data"
    }
   ],
   "source": [
    "game_score_per_episode = experiment.env.game_score_coef * experiment.model_.food_count_per_episode[::10]\n",
    "x = np.arange(1, len(game_score_per_episode) * 10 + 1, 10)\n",
    "\n",
    "plt.semilogx(x, compute_mean_over_time(game_score_per_episode))\n",
    "plt.show()"
   ]
  },
  {
   "cell_type": "code",
   "execution_count": 85,
   "metadata": {},
   "outputs": [
    {
     "name": "stdout",
     "output_type": "stream",
     "text": [
      "Test performance after 1000000 iterations:\n",
      "Avg Score: 38.440 (Std: 56.110)\n"
     ]
    }
   ],
   "source": [
    "seed = 123\n",
    "\n",
    "experiment = setup_experiment(QLearning, \"test\", seed)\n",
    "experiment.train_episodes = 1000000\n",
    "experiment.state = BoardScoreState\n",
    "experiment.reward = NegDistanceNegBorderCollisionPosBodySize\n",
    "\n",
    "experiment.load()\n",
    "experiment.train()\n",
    "experiment.save()\n",
    "\n",
    "np.random.seed(123)\n",
    "print(\"Test performance after %i iterations:\" % (experiment.train_episodes,))\n",
    "agent = SnakeAgent(GreedyPolicy(experiment.env),\n",
    "                   experiment.model_.Q)\n",
    "experiment.env.state = BoardScoreState\n",
    "print(\"Avg Score: %0.03f (Std: %0.03f)\" % (np.mean(scores), np.std(scores)))"
   ]
  },
  {
   "cell_type": "code",
   "execution_count": 77,
   "metadata": {},
   "outputs": [
    {
     "data": {
      "image/png": "[encoded data removed]",
      "text/plain": [
       "<matplotlib.figure.Figure at 0x7f813e056a20>"
      ]
     },
     "metadata": {},
     "output_type": "display_data"
    }
   ],
   "source": [
    "game_score_per_episode = experiment.env.game_score_coef * experiment.model_.food_count_per_episode[::10]\n",
    "x = np.arange(1, len(game_score_per_episode) * 10 + 1, 10)\n",
    "\n",
    "plt.semilogx(x, compute_mean_over_time(game_score_per_episode))\n",
    "plt.show()"
   ]
  },
  {
   "cell_type": "code",
   "execution_count": 86,
   "metadata": {},
   "outputs": [],
   "source": [
    "run_experiment_in_simulator(experiment)"
   ]
  },
  {
   "cell_type": "code",
   "execution_count": 87,
   "metadata": {},
   "outputs": [
    {
     "name": "stdout",
     "output_type": "stream",
     "text": [
      "Test performance after 1000000 iterations:\n",
      "Avg Score: 38.440 (Std: 56.110)\n"
     ]
    }
   ],
   "source": [
    "seed = 123\n",
    "\n",
    "experiment = setup_experiment(QLearning, \"test\", seed)\n",
    "experiment.train_episodes = 1000000\n",
    "experiment.state = BoardScoreState\n",
    "experiment.reward = NegDistanceNegDeathPosBodySize\n",
    "\n",
    "experiment.load()\n",
    "experiment.train()\n",
    "experiment.save()\n",
    "\n",
    "np.random.seed(123)\n",
    "print(\"Test performance after %i iterations:\" % (experiment.train_episodes,))\n",
    "agent = SnakeAgent(GreedyPolicy(experiment.env),\n",
    "                   experiment.model_.Q)\n",
    "experiment.env.state = BoardScoreState\n",
    "print(\"Avg Score: %0.03f (Std: %0.03f)\" % (np.mean(scores), np.std(scores)))"
   ]
  },
  {
   "cell_type": "code",
   "execution_count": 80,
   "metadata": {},
   "outputs": [
    {
     "data": {
      "image/png": "[encoded data removed]",
      "text/plain": [
       "<matplotlib.figure.Figure at 0x7f8176efdf60>"
      ]
     },
     "metadata": {},
     "output_type": "display_data"
    }
   ],
   "source": [
    "game_score_per_episode = experiment.env.game_score_coef * experiment.model_.food_count_per_episode[::10]\n",
    "x = np.arange(1, len(game_score_per_episode) * 10 + 1, 10)\n",
    "\n",
    "plt.semilogx(x, compute_mean_over_time(game_score_per_episode))\n",
    "plt.show()"
   ]
  },
  {
   "cell_type": "code",
   "execution_count": 89,
   "metadata": {},
   "outputs": [],
   "source": [
    "run_experiment_in_simulator(experiment)"
   ]
  },
  {
   "cell_type": "markdown",
   "metadata": {},
   "source": [
    "# Player"
   ]
  },
  {
   "cell_type": "code",
   "execution_count": 82,
   "metadata": {},
   "outputs": [],
   "source": [
    "# main()"
   ]
  }
 ],
 "metadata": {
  "kernelspec": {
   "display_name": "Python 3",
   "language": "python",
   "name": "python3"
  },
  "language_info": {
   "codemirror_mode": {
    "name": "ipython",
    "version": 3
   },
   "file_extension": ".py",
   "mimetype": "text/x-python",
   "name": "python",
   "nbconvert_exporter": "python",
   "pygments_lexer": "ipython3",
   "version": "3.5.3"
  }
 },
 "nbformat": 4,
 "nbformat_minor": 1
}
